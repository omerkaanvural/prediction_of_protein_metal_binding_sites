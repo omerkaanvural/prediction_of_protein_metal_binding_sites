{
 "cells": [
  {
   "cell_type": "code",
   "execution_count": 1,
   "metadata": {},
   "outputs": [],
   "source": [
    "import pandas as pd"
   ]
  },
  {
   "cell_type": "markdown",
   "metadata": {},
   "source": [
    "## Checking a Protein Sequence Structure from a fasta file"
   ]
  },
  {
   "cell_type": "code",
   "execution_count": 2,
   "metadata": {},
   "outputs": [],
   "source": [
    "import requests\n",
    "from Bio import SeqIO\n",
    "from io import StringIO\n",
    "\n",
    "fasta_url = \"https://ftp.ebi.ac.uk/pub/contrib/UniProt/prediction_challenges/1_metal_binding/POS_TRAIN.fasta\"\n",
    "\n",
    "response = requests.get(fasta_url)\n",
    "\n",
    "fasta_file = StringIO(response.text)\n",
    "\n",
    "records = SeqIO.parse(fasta_file, \"fasta\")"
   ]
  },
  {
   "cell_type": "code",
   "execution_count": 3,
   "metadata": {},
   "outputs": [
    {
     "name": "stdout",
     "output_type": "stream",
     "text": [
      "2317\n"
     ]
    }
   ],
   "source": [
    "# Convert the iterator into a dictionary\n",
    "records_dict = [dict(id=record.id, description=record.description, sequence=str(record.seq)) for record in records]\n",
    "\n",
    "print(len(records_dict))"
   ]
  },
  {
   "cell_type": "markdown",
   "metadata": {},
   "source": [
    "### We have 2317 sequence"
   ]
  },
  {
   "cell_type": "code",
   "execution_count": 4,
   "metadata": {},
   "outputs": [
    {
     "data": {
      "text/plain": [
       "({'id': 'sp|A0A023GPI8|LECA_CANBL',\n",
       "  'description': 'sp|A0A023GPI8|LECA_CANBL Lectin alpha chain OS=Canavalia boliviana OX=232300 PE=1 SV=1',\n",
       "  'sequence': 'ADTIVAVELDTYPNTDIGDPSYPHIGIDIKSVRSKKTAKWNMQNGKVGTAHIIYNSVGKRLSAVVSYPNGDSATVSYDVDLDNVLPEWVRVGLSATTGLYKETNTILSWSFTSKLKSNSTHETNALHFMFNQFSKDQKDLILQGDATTGRDGNLELTRVSSNGSPQGSSVGRALFYAPVHIWESSAVVASFDATFTFLIKSSDSHPADGIAFFISNIDSSIPSGSTGRLLGLFPDAN'},\n",
       " 237)"
      ]
     },
     "execution_count": 4,
     "metadata": {},
     "output_type": "execute_result"
    }
   ],
   "source": [
    "records_dict[0], len(records_dict[0]['sequence'])"
   ]
  },
  {
   "cell_type": "markdown",
   "metadata": {},
   "source": [
    "## Checking a tsv file to look up metal-binding sites"
   ]
  },
  {
   "cell_type": "code",
   "execution_count": 5,
   "metadata": {},
   "outputs": [
    {
     "data": {
      "text/html": [
       "<div>\n",
       "<style scoped>\n",
       "    .dataframe tbody tr th:only-of-type {\n",
       "        vertical-align: middle;\n",
       "    }\n",
       "\n",
       "    .dataframe tbody tr th {\n",
       "        vertical-align: top;\n",
       "    }\n",
       "\n",
       "    .dataframe thead th {\n",
       "        text-align: right;\n",
       "    }\n",
       "</style>\n",
       "<table border=\"1\" class=\"dataframe\">\n",
       "  <thead>\n",
       "    <tr style=\"text-align: right;\">\n",
       "      <th></th>\n",
       "      <th>Accession</th>\n",
       "      <th>Evidence</th>\n",
       "      <th>ChEBI-ID</th>\n",
       "      <th>Position</th>\n",
       "    </tr>\n",
       "  </thead>\n",
       "  <tbody>\n",
       "    <tr>\n",
       "      <th>0</th>\n",
       "      <td>Q8INK9</td>\n",
       "      <td>ECO:0000269</td>\n",
       "      <td>CHEBI:29105</td>\n",
       "      <td>157</td>\n",
       "    </tr>\n",
       "    <tr>\n",
       "      <th>1</th>\n",
       "      <td>Q8INK9</td>\n",
       "      <td>ECO:0000269</td>\n",
       "      <td>CHEBI:29105</td>\n",
       "      <td>96</td>\n",
       "    </tr>\n",
       "    <tr>\n",
       "      <th>2</th>\n",
       "      <td>Q1QT89</td>\n",
       "      <td>ECO:0000269</td>\n",
       "      <td>CHEBI:18420</td>\n",
       "      <td>263</td>\n",
       "    </tr>\n",
       "    <tr>\n",
       "      <th>3</th>\n",
       "      <td>P07327</td>\n",
       "      <td>ECO:0000269</td>\n",
       "      <td>CHEBI:29105</td>\n",
       "      <td>101</td>\n",
       "    </tr>\n",
       "    <tr>\n",
       "      <th>4</th>\n",
       "      <td>P07327</td>\n",
       "      <td>ECO:0007744</td>\n",
       "      <td>CHEBI:29105</td>\n",
       "      <td>104</td>\n",
       "    </tr>\n",
       "  </tbody>\n",
       "</table>\n",
       "</div>"
      ],
      "text/plain": [
       "  Accession     Evidence     ChEBI-ID  Position\n",
       "0    Q8INK9  ECO:0000269  CHEBI:29105       157\n",
       "1    Q8INK9  ECO:0000269  CHEBI:29105        96\n",
       "2    Q1QT89  ECO:0000269  CHEBI:18420       263\n",
       "3    P07327  ECO:0000269  CHEBI:29105       101\n",
       "4    P07327  ECO:0007744  CHEBI:29105       104"
      ]
     },
     "execution_count": 5,
     "metadata": {},
     "output_type": "execute_result"
    }
   ],
   "source": [
    "tsv_url = \"https://ftp.ebi.ac.uk/pub/contrib/UniProt/prediction_challenges/1_metal_binding/POS_TRAIN.tsv\"\n",
    "\n",
    "df = pd.read_csv(tsv_url, sep='\\t')\n",
    "\n",
    "df.head()"
   ]
  },
  {
   "cell_type": "code",
   "execution_count": 6,
   "metadata": {},
   "outputs": [
    {
     "data": {
      "text/plain": [
       "18043"
      ]
     },
     "execution_count": 6,
     "metadata": {},
     "output_type": "execute_result"
    }
   ],
   "source": [
    "len(df)"
   ]
  },
  {
   "cell_type": "markdown",
   "metadata": {},
   "source": [
    "### We have 18043 metal binding site"
   ]
  },
  {
   "cell_type": "code",
   "execution_count": 7,
   "metadata": {},
   "outputs": [
    {
     "data": {
      "text/plain": [
       "23"
      ]
     },
     "execution_count": 7,
     "metadata": {},
     "output_type": "execute_result"
    }
   ],
   "source": [
    "len(df['ChEBI-ID'].unique())"
   ]
  },
  {
   "cell_type": "markdown",
   "metadata": {},
   "source": [
    "### We have 23 different metal types"
   ]
  },
  {
   "cell_type": "markdown",
   "metadata": {},
   "source": [
    "## Checking a tsv file to look up chebi-id for metal-bindings."
   ]
  },
  {
   "cell_type": "code",
   "execution_count": 8,
   "metadata": {},
   "outputs": [
    {
     "data": {
      "text/html": [
       "<div>\n",
       "<style scoped>\n",
       "    .dataframe tbody tr th:only-of-type {\n",
       "        vertical-align: middle;\n",
       "    }\n",
       "\n",
       "    .dataframe tbody tr th {\n",
       "        vertical-align: top;\n",
       "    }\n",
       "\n",
       "    .dataframe thead th {\n",
       "        text-align: right;\n",
       "    }\n",
       "</style>\n",
       "<table border=\"1\" class=\"dataframe\">\n",
       "  <thead>\n",
       "    <tr style=\"text-align: right;\">\n",
       "      <th></th>\n",
       "      <th>ChEBI-ID</th>\n",
       "      <th>Name</th>\n",
       "      <th>ChEBI-ID Parents</th>\n",
       "    </tr>\n",
       "  </thead>\n",
       "  <tbody>\n",
       "    <tr>\n",
       "      <th>0</th>\n",
       "      <td>CHEBI:48775</td>\n",
       "      <td>Cd(2+)</td>\n",
       "      <td>CHEBI:60240,CHEBI:25213</td>\n",
       "    </tr>\n",
       "    <tr>\n",
       "      <th>1</th>\n",
       "      <td>CHEBI:29108</td>\n",
       "      <td>Ca(2+)</td>\n",
       "      <td>CHEBI:60240,CHEBI:25213</td>\n",
       "    </tr>\n",
       "    <tr>\n",
       "      <th>2</th>\n",
       "      <td>CHEBI:48828</td>\n",
       "      <td>Co(2+)</td>\n",
       "      <td>CHEBI:60240,CHEBI:25213</td>\n",
       "    </tr>\n",
       "    <tr>\n",
       "      <th>3</th>\n",
       "      <td>CHEBI:49415</td>\n",
       "      <td>Co(3+)</td>\n",
       "      <td>CHEBI:25213</td>\n",
       "    </tr>\n",
       "    <tr>\n",
       "      <th>4</th>\n",
       "      <td>CHEBI:23378</td>\n",
       "      <td>Cu cation</td>\n",
       "      <td>CHEBI:25213</td>\n",
       "    </tr>\n",
       "  </tbody>\n",
       "</table>\n",
       "</div>"
      ],
      "text/plain": [
       "      ChEBI-ID       Name         ChEBI-ID Parents\n",
       "0  CHEBI:48775     Cd(2+)  CHEBI:60240,CHEBI:25213\n",
       "1  CHEBI:29108     Ca(2+)  CHEBI:60240,CHEBI:25213\n",
       "2  CHEBI:48828     Co(2+)  CHEBI:60240,CHEBI:25213\n",
       "3  CHEBI:49415     Co(3+)              CHEBI:25213\n",
       "4  CHEBI:23378  Cu cation              CHEBI:25213"
      ]
     },
     "execution_count": 8,
     "metadata": {},
     "output_type": "execute_result"
    }
   ],
   "source": [
    "tsv_url_chebi = \"https://ftp.ebi.ac.uk/pub/contrib/UniProt/prediction_challenges/1_metal_binding/ChEBI-IDs_for_metal_binding.tsv\"\n",
    "\n",
    "df_chebi = pd.read_csv(tsv_url_chebi, sep='\\t')\n",
    "\n",
    "df_chebi.head()"
   ]
  },
  {
   "cell_type": "code",
   "execution_count": 9,
   "metadata": {},
   "outputs": [
    {
     "data": {
      "text/plain": [
       "29"
      ]
     },
     "execution_count": 9,
     "metadata": {},
     "output_type": "execute_result"
    }
   ],
   "source": [
    "len(df_chebi)"
   ]
  },
  {
   "cell_type": "code",
   "execution_count": 10,
   "metadata": {},
   "outputs": [
    {
     "data": {
      "text/plain": [
       "({'CHEBI:48775': 'Cd(2+)',\n",
       "  'CHEBI:29108': 'Ca(2+)',\n",
       "  'CHEBI:48828': 'Co(2+)',\n",
       "  'CHEBI:49415': 'Co(3+)',\n",
       "  'CHEBI:23378': 'Cu cation',\n",
       "  'CHEBI:49552': 'Cu(+)',\n",
       "  'CHEBI:29036': 'Cu(2+)',\n",
       "  'CHEBI:60240': 'a divalent metal cation',\n",
       "  'CHEBI:190135': '[2Fe-2S] cluster',\n",
       "  'CHEBI:24875': 'Fe cation',\n",
       "  'CHEBI:29033': 'Fe(2+)',\n",
       "  'CHEBI:29034': 'Fe(3+)',\n",
       "  'CHEBI:30408': 'iron-sulfur cluster',\n",
       "  'CHEBI:49713': 'Li(+)',\n",
       "  'CHEBI:18420': 'Mg(2+)',\n",
       "  'CHEBI:29035': 'Mn(2+)',\n",
       "  'CHEBI:16793': 'Hg(2+)',\n",
       "  'CHEBI:49786': 'Ni(2+)',\n",
       "  'CHEBI:60400': '[Ni-Fe-S] cluster',\n",
       "  'CHEBI:47739': '[Ni-4Fe-4S] cluster',\n",
       "  'CHEBI:29103': 'K(+)',\n",
       "  'CHEBI:29101': 'Na(+)',\n",
       "  'CHEBI:49883': '[4Fe-4S] cluster',\n",
       "  'CHEBI:21137': '[3Fe-4S] cluster',\n",
       "  'CHEBI:29105': 'Zn(2+)',\n",
       "  'CHEBI:177874': '[Ni-4Fe-5S] cluster',\n",
       "  'CHEBI:21143': '[8Fe-7S] cluster',\n",
       "  'CHEBI:60504': '[8Fe-9S-C-homocitryl] cluster',\n",
       "  'CHEBI:25213': 'a metal cation'},\n",
       " {'Cd(2+)': 'CHEBI:48775',\n",
       "  'Ca(2+)': 'CHEBI:29108',\n",
       "  'Co(2+)': 'CHEBI:48828',\n",
       "  'Co(3+)': 'CHEBI:49415',\n",
       "  'Cu cation': 'CHEBI:23378',\n",
       "  'Cu(+)': 'CHEBI:49552',\n",
       "  'Cu(2+)': 'CHEBI:29036',\n",
       "  'a divalent metal cation': 'CHEBI:60240',\n",
       "  '[2Fe-2S] cluster': 'CHEBI:190135',\n",
       "  'Fe cation': 'CHEBI:24875',\n",
       "  'Fe(2+)': 'CHEBI:29033',\n",
       "  'Fe(3+)': 'CHEBI:29034',\n",
       "  'iron-sulfur cluster': 'CHEBI:30408',\n",
       "  'Li(+)': 'CHEBI:49713',\n",
       "  'Mg(2+)': 'CHEBI:18420',\n",
       "  'Mn(2+)': 'CHEBI:29035',\n",
       "  'Hg(2+)': 'CHEBI:16793',\n",
       "  'Ni(2+)': 'CHEBI:49786',\n",
       "  '[Ni-Fe-S] cluster': 'CHEBI:60400',\n",
       "  '[Ni-4Fe-4S] cluster': 'CHEBI:47739',\n",
       "  'K(+)': 'CHEBI:29103',\n",
       "  'Na(+)': 'CHEBI:29101',\n",
       "  '[4Fe-4S] cluster': 'CHEBI:49883',\n",
       "  '[3Fe-4S] cluster': 'CHEBI:21137',\n",
       "  'Zn(2+)': 'CHEBI:29105',\n",
       "  '[Ni-4Fe-5S] cluster': 'CHEBI:177874',\n",
       "  '[8Fe-7S] cluster': 'CHEBI:21143',\n",
       "  '[8Fe-9S-C-homocitryl] cluster': 'CHEBI:60504',\n",
       "  'a metal cation': 'CHEBI:25213'})"
      ]
     },
     "execution_count": 10,
     "metadata": {},
     "output_type": "execute_result"
    }
   ],
   "source": [
    "# We do not need 'ChEBI-ID Parents' column. Also we can use the hole dataframe as dictionary which matches only the ChEBI-ID to the name like this: {'ChEBI-ID': 'Name'}\n",
    "df_chebi_to_name = df_chebi[['ChEBI-ID', 'Name']].set_index('ChEBI-ID').to_dict()['Name']\n",
    "\n",
    "# inverse the dictionary for name to chebi using df_chebi_to_name\n",
    "df_name_to_chebi = {v: k for k, v in df_chebi_to_name.items()}\n",
    "\n",
    "df_chebi_to_name, df_name_to_chebi"
   ]
  },
  {
   "cell_type": "markdown",
   "metadata": {},
   "source": [
    "## Merging two dataframe"
   ]
  },
  {
   "cell_type": "code",
   "execution_count": 11,
   "metadata": {},
   "outputs": [
    {
     "data": {
      "text/html": [
       "<div>\n",
       "<style scoped>\n",
       "    .dataframe tbody tr th:only-of-type {\n",
       "        vertical-align: middle;\n",
       "    }\n",
       "\n",
       "    .dataframe tbody tr th {\n",
       "        vertical-align: top;\n",
       "    }\n",
       "\n",
       "    .dataframe thead th {\n",
       "        text-align: right;\n",
       "    }\n",
       "</style>\n",
       "<table border=\"1\" class=\"dataframe\">\n",
       "  <thead>\n",
       "    <tr style=\"text-align: right;\">\n",
       "      <th></th>\n",
       "      <th>Accession</th>\n",
       "      <th>Evidence</th>\n",
       "      <th>ChEBI-ID</th>\n",
       "      <th>Position</th>\n",
       "      <th>Name</th>\n",
       "      <th>ChEBI-ID Parents</th>\n",
       "    </tr>\n",
       "  </thead>\n",
       "  <tbody>\n",
       "    <tr>\n",
       "      <th>13581</th>\n",
       "      <td>Q6TEC1</td>\n",
       "      <td>ECO:0000269</td>\n",
       "      <td>CHEBI:29035</td>\n",
       "      <td>150</td>\n",
       "      <td>Mn(2+)</td>\n",
       "      <td>CHEBI:60240,CHEBI:25213</td>\n",
       "    </tr>\n",
       "    <tr>\n",
       "      <th>13582</th>\n",
       "      <td>P0AAB4</td>\n",
       "      <td>ECO:0000269</td>\n",
       "      <td>CHEBI:29035</td>\n",
       "      <td>175</td>\n",
       "      <td>Mn(2+)</td>\n",
       "      <td>CHEBI:60240,CHEBI:25213</td>\n",
       "    </tr>\n",
       "    <tr>\n",
       "      <th>13583</th>\n",
       "      <td>P46637</td>\n",
       "      <td>ECO:0000269</td>\n",
       "      <td>CHEBI:29035</td>\n",
       "      <td>161</td>\n",
       "      <td>Mn(2+)</td>\n",
       "      <td>CHEBI:60240,CHEBI:25213</td>\n",
       "    </tr>\n",
       "    <tr>\n",
       "      <th>13584</th>\n",
       "      <td>Q7NXD4</td>\n",
       "      <td>ECO:0000269</td>\n",
       "      <td>CHEBI:29035</td>\n",
       "      <td>248</td>\n",
       "      <td>Mn(2+)</td>\n",
       "      <td>CHEBI:60240,CHEBI:25213</td>\n",
       "    </tr>\n",
       "    <tr>\n",
       "      <th>13585</th>\n",
       "      <td>P36873</td>\n",
       "      <td>ECO:0000269</td>\n",
       "      <td>CHEBI:29035</td>\n",
       "      <td>92</td>\n",
       "      <td>Mn(2+)</td>\n",
       "      <td>CHEBI:60240,CHEBI:25213</td>\n",
       "    </tr>\n",
       "    <tr>\n",
       "      <th>13586</th>\n",
       "      <td>A0A256XLS3</td>\n",
       "      <td>ECO:0007744</td>\n",
       "      <td>CHEBI:29035</td>\n",
       "      <td>143</td>\n",
       "      <td>Mn(2+)</td>\n",
       "      <td>CHEBI:60240,CHEBI:25213</td>\n",
       "    </tr>\n",
       "    <tr>\n",
       "      <th>13587</th>\n",
       "      <td>A0A256XLS3</td>\n",
       "      <td>ECO:0000269</td>\n",
       "      <td>CHEBI:29035</td>\n",
       "      <td>77</td>\n",
       "      <td>Mn(2+)</td>\n",
       "      <td>CHEBI:60240,CHEBI:25213</td>\n",
       "    </tr>\n",
       "    <tr>\n",
       "      <th>13588</th>\n",
       "      <td>P34047</td>\n",
       "      <td>ECO:0000269</td>\n",
       "      <td>CHEBI:29035</td>\n",
       "      <td>236</td>\n",
       "      <td>Mn(2+)</td>\n",
       "      <td>CHEBI:60240,CHEBI:25213</td>\n",
       "    </tr>\n",
       "    <tr>\n",
       "      <th>13589</th>\n",
       "      <td>P34047</td>\n",
       "      <td>ECO:0007744</td>\n",
       "      <td>CHEBI:29035</td>\n",
       "      <td>232</td>\n",
       "      <td>Mn(2+)</td>\n",
       "      <td>CHEBI:60240,CHEBI:25213</td>\n",
       "    </tr>\n",
       "    <tr>\n",
       "      <th>13590</th>\n",
       "      <td>C0HJY1</td>\n",
       "      <td>ECO:0000269</td>\n",
       "      <td>CHEBI:29035</td>\n",
       "      <td>8</td>\n",
       "      <td>Mn(2+)</td>\n",
       "      <td>CHEBI:60240,CHEBI:25213</td>\n",
       "    </tr>\n",
       "  </tbody>\n",
       "</table>\n",
       "</div>"
      ],
      "text/plain": [
       "        Accession     Evidence     ChEBI-ID  Position    Name  \\\n",
       "13581      Q6TEC1  ECO:0000269  CHEBI:29035       150  Mn(2+)   \n",
       "13582      P0AAB4  ECO:0000269  CHEBI:29035       175  Mn(2+)   \n",
       "13583      P46637  ECO:0000269  CHEBI:29035       161  Mn(2+)   \n",
       "13584      Q7NXD4  ECO:0000269  CHEBI:29035       248  Mn(2+)   \n",
       "13585      P36873  ECO:0000269  CHEBI:29035        92  Mn(2+)   \n",
       "13586  A0A256XLS3  ECO:0007744  CHEBI:29035       143  Mn(2+)   \n",
       "13587  A0A256XLS3  ECO:0000269  CHEBI:29035        77  Mn(2+)   \n",
       "13588      P34047  ECO:0000269  CHEBI:29035       236  Mn(2+)   \n",
       "13589      P34047  ECO:0007744  CHEBI:29035       232  Mn(2+)   \n",
       "13590      C0HJY1  ECO:0000269  CHEBI:29035         8  Mn(2+)   \n",
       "\n",
       "              ChEBI-ID Parents  \n",
       "13581  CHEBI:60240,CHEBI:25213  \n",
       "13582  CHEBI:60240,CHEBI:25213  \n",
       "13583  CHEBI:60240,CHEBI:25213  \n",
       "13584  CHEBI:60240,CHEBI:25213  \n",
       "13585  CHEBI:60240,CHEBI:25213  \n",
       "13586  CHEBI:60240,CHEBI:25213  \n",
       "13587  CHEBI:60240,CHEBI:25213  \n",
       "13588  CHEBI:60240,CHEBI:25213  \n",
       "13589  CHEBI:60240,CHEBI:25213  \n",
       "13590  CHEBI:60240,CHEBI:25213  "
      ]
     },
     "execution_count": 11,
     "metadata": {},
     "output_type": "execute_result"
    }
   ],
   "source": [
    "merged_df = pd.merge(df, df_chebi, on='ChEBI-ID')\n",
    "merged_df[merged_df['Name'] == 'Mn(2+)'].head(10)"
   ]
  },
  {
   "cell_type": "code",
   "execution_count": 12,
   "metadata": {},
   "outputs": [
    {
     "data": {
      "text/plain": [
       "18043"
      ]
     },
     "execution_count": 12,
     "metadata": {},
     "output_type": "execute_result"
    }
   ],
   "source": [
    "len(merged_df)"
   ]
  },
  {
   "cell_type": "code",
   "execution_count": 13,
   "metadata": {},
   "outputs": [
    {
     "data": {
      "text/plain": [
       "True"
      ]
     },
     "execution_count": 13,
     "metadata": {},
     "output_type": "execute_result"
    }
   ],
   "source": [
    "len(merged_df['Accession'].unique()) == len(records_dict)"
   ]
  },
  {
   "cell_type": "markdown",
   "metadata": {},
   "source": [
    "## Check the distributions of the size of the sequences"
   ]
  },
  {
   "cell_type": "code",
   "execution_count": 14,
   "metadata": {},
   "outputs": [
    {
     "data": {
      "image/png": "[encoded data removed]",
      "text/plain": [
       "<Figure size 640x480 with 1 Axes>"
      ]
     },
     "metadata": {},
     "output_type": "display_data"
    }
   ],
   "source": [
    "import matplotlib.pyplot as plt\n",
    "\n",
    "# Get the lengths of the sequences\n",
    "sequence_lengths = [len(record['sequence']) for record in records_dict]\n",
    "\n",
    "# Create a histogram\n",
    "plt.hist(sequence_lengths, bins=10)\n",
    "\n",
    "# Set the labels and title\n",
    "plt.xlabel('Sequence Length')\n",
    "plt.ylabel('Frequency')\n",
    "plt.title('Distribution of Sequence Lengths')\n",
    "\n",
    "# Show the histogram\n",
    "plt.show()"
   ]
  },
  {
   "cell_type": "code",
   "execution_count": 15,
   "metadata": {},
   "outputs": [
    {
     "data": {
      "text/plain": [
       "513"
      ]
     },
     "execution_count": 15,
     "metadata": {},
     "output_type": "execute_result"
    }
   ],
   "source": [
    "# calculate the average sequence length\n",
    "avg_seq_len = int(sum(sequence_lengths) / len(sequence_lengths))\n",
    "avg_seq_len"
   ]
  },
  {
   "cell_type": "code",
   "execution_count": 16,
   "metadata": {},
   "outputs": [
    {
     "data": {
      "text/plain": [
       "Name\n",
       "Zn(2+)                     5788\n",
       "Ca(2+)                     4768\n",
       "Mg(2+)                     2140\n",
       "Mn(2+)                     1136\n",
       "Fe cation                   919\n",
       "[4Fe-4S] cluster            885\n",
       "a divalent metal cation     738\n",
       "Cu cation                   561\n",
       "[2Fe-2S] cluster            348\n",
       "K(+)                        163\n",
       "Na(+)                       142\n",
       "Fe(3+)                      136\n",
       "Ni(2+)                       77\n",
       "Co(2+)                       50\n",
       "Cd(2+)                       50\n",
       "[3Fe-4S] cluster             36\n",
       "Cu(2+)                       33\n",
       "Cu(+)                        27\n",
       "Fe(2+)                       22\n",
       "[Ni-4Fe-4S] cluster          12\n",
       "[Ni-4Fe-5S] cluster           6\n",
       "Co(3+)                        4\n",
       "Hg(2+)                        2\n",
       "Name: count, dtype: int64"
      ]
     },
     "execution_count": 16,
     "metadata": {},
     "output_type": "execute_result"
    }
   ],
   "source": [
    "# counts of name columns in histogram\n",
    "name_counts = merged_df['Name'].value_counts()\n",
    "\n",
    "name_counts"
   ]
  },
  {
   "cell_type": "markdown",
   "metadata": {},
   "source": [
    "## Filtering the ions by their counts."
   ]
  },
  {
   "cell_type": "code",
   "execution_count": 17,
   "metadata": {},
   "outputs": [],
   "source": [
    "name_counts = merged_df['Name'].value_counts()\n",
    "merged_df = merged_df[merged_df['Name'].isin(name_counts[name_counts >= 75].index)]"
   ]
  },
  {
   "cell_type": "code",
   "execution_count": 18,
   "metadata": {},
   "outputs": [
    {
     "data": {
      "text/plain": [
       "Name\n",
       "Zn(2+)                     5788\n",
       "Ca(2+)                     4768\n",
       "Mg(2+)                     2140\n",
       "Mn(2+)                     1136\n",
       "Fe cation                   919\n",
       "[4Fe-4S] cluster            885\n",
       "a divalent metal cation     738\n",
       "Cu cation                   561\n",
       "[2Fe-2S] cluster            348\n",
       "K(+)                        163\n",
       "Na(+)                       142\n",
       "Fe(3+)                      136\n",
       "Ni(2+)                       77\n",
       "Name: count, dtype: int64"
      ]
     },
     "execution_count": 18,
     "metadata": {},
     "output_type": "execute_result"
    }
   ],
   "source": [
    "name_counts = merged_df['Name'].value_counts()\n",
    "\n",
    "name_counts"
   ]
  },
  {
   "cell_type": "code",
   "execution_count": 19,
   "metadata": {},
   "outputs": [
    {
     "data": {
      "text/plain": [
       "({'Zn(2+)': 1,\n",
       "  'Ca(2+)': 2,\n",
       "  'Mg(2+)': 3,\n",
       "  'Mn(2+)': 4,\n",
       "  'Fe cation': 5,\n",
       "  '[4Fe-4S] cluster': 6,\n",
       "  'a divalent metal cation': 7,\n",
       "  'Cu cation': 8,\n",
       "  '[2Fe-2S] cluster': 9,\n",
       "  'K(+)': 10,\n",
       "  'Na(+)': 11,\n",
       "  'Fe(3+)': 12,\n",
       "  'Ni(2+)': 13},\n",
       " {1: 'Zn(2+)',\n",
       "  2: 'Ca(2+)',\n",
       "  3: 'Mg(2+)',\n",
       "  4: 'Mn(2+)',\n",
       "  5: 'Fe cation',\n",
       "  6: '[4Fe-4S] cluster',\n",
       "  7: 'a divalent metal cation',\n",
       "  8: 'Cu cation',\n",
       "  9: '[2Fe-2S] cluster',\n",
       "  10: 'K(+)',\n",
       "  11: 'Na(+)',\n",
       "  12: 'Fe(3+)',\n",
       "  13: 'Ni(2+)'})"
      ]
     },
     "execution_count": 19,
     "metadata": {},
     "output_type": "execute_result"
    }
   ],
   "source": [
    "# dictionary for creating labels from starting 1 to total name_counts\n",
    "name_to_label = {name: i+1 for i, name in enumerate(name_counts.index)}\n",
    "\n",
    "# also the opposite\n",
    "label_to_name = {v: k for k, v in name_to_label.items()}\n",
    "\n",
    "name_to_label, label_to_name"
   ]
  },
  {
   "cell_type": "markdown",
   "metadata": {},
   "source": [
    "## Filtering the sequences by length"
   ]
  },
  {
   "cell_type": "code",
   "execution_count": 20,
   "metadata": {},
   "outputs": [],
   "source": [
    "filtered_records = [record for record in records_dict if len(record['sequence']) <= 1024] # 1024 is the max length of the sequence (just for beginning)"
   ]
  },
  {
   "cell_type": "code",
   "execution_count": 21,
   "metadata": {},
   "outputs": [
    {
     "data": {
      "text/plain": [
       "2135"
      ]
     },
     "execution_count": 21,
     "metadata": {},
     "output_type": "execute_result"
    }
   ],
   "source": [
    "len(filtered_records)"
   ]
  },
  {
   "cell_type": "markdown",
   "metadata": {},
   "source": [
    "### In the beginning we have 2317 sequences. After filtering we have 2135 sequences which it's length longer than 1024"
   ]
  },
  {
   "cell_type": "code",
   "execution_count": 22,
   "metadata": {},
   "outputs": [
    {
     "data": {
      "text/plain": [
       "{'id': 'sp|A0A023GPI8|LECA_CANBL',\n",
       " 'description': 'sp|A0A023GPI8|LECA_CANBL Lectin alpha chain OS=Canavalia boliviana OX=232300 PE=1 SV=1',\n",
       " 'sequence': 'ADTIVAVELDTYPNTDIGDPSYPHIGIDIKSVRSKKTAKWNMQNGKVGTAHIIYNSVGKRLSAVVSYPNGDSATVSYDVDLDNVLPEWVRVGLSATTGLYKETNTILSWSFTSKLKSNSTHETNALHFMFNQFSKDQKDLILQGDATTGRDGNLELTRVSSNGSPQGSSVGRALFYAPVHIWESSAVVASFDATFTFLIKSSDSHPADGIAFFISNIDSSIPSGSTGRLLGLFPDAN'}"
      ]
     },
     "execution_count": 22,
     "metadata": {},
     "output_type": "execute_result"
    }
   ],
   "source": [
    "filtered_records[0]"
   ]
  },
  {
   "cell_type": "markdown",
   "metadata": {},
   "source": [
    "## Adjusting id column"
   ]
  },
  {
   "cell_type": "code",
   "execution_count": 23,
   "metadata": {},
   "outputs": [
    {
     "data": {
      "text/plain": [
       "{'id': 'A0A023GPI8',\n",
       " 'sequence': 'ADTIVAVELDTYPNTDIGDPSYPHIGIDIKSVRSKKTAKWNMQNGKVGTAHIIYNSVGKRLSAVVSYPNGDSATVSYDVDLDNVLPEWVRVGLSATTGLYKETNTILSWSFTSKLKSNSTHETNALHFMFNQFSKDQKDLILQGDATTGRDGNLELTRVSSNGSPQGSSVGRALFYAPVHIWESSAVVASFDATFTFLIKSSDSHPADGIAFFISNIDSSIPSGSTGRLLGLFPDAN'}"
      ]
     },
     "execution_count": 23,
     "metadata": {},
     "output_type": "execute_result"
    }
   ],
   "source": [
    "# Remove the description part of the records\n",
    "records_cleaned = [{'id': record['id'].split('|')[1], 'sequence': record['sequence']} for record in filtered_records]\n",
    "records_cleaned[0]"
   ]
  },
  {
   "cell_type": "markdown",
   "metadata": {},
   "source": [
    "## Removing multi-bounded ions according to the total counts in the data. If a number of ion more than another, it overrides the other ion in the same aminoacid. "
   ]
  },
  {
   "cell_type": "code",
   "execution_count": 24,
   "metadata": {},
   "outputs": [
    {
     "data": {
      "text/html": [
       "<div>\n",
       "<style scoped>\n",
       "    .dataframe tbody tr th:only-of-type {\n",
       "        vertical-align: middle;\n",
       "    }\n",
       "\n",
       "    .dataframe tbody tr th {\n",
       "        vertical-align: top;\n",
       "    }\n",
       "\n",
       "    .dataframe thead th {\n",
       "        text-align: right;\n",
       "    }\n",
       "</style>\n",
       "<table border=\"1\" class=\"dataframe\">\n",
       "  <thead>\n",
       "    <tr style=\"text-align: right;\">\n",
       "      <th></th>\n",
       "      <th>Accession</th>\n",
       "      <th>Position</th>\n",
       "      <th>Name</th>\n",
       "    </tr>\n",
       "  </thead>\n",
       "  <tbody>\n",
       "    <tr>\n",
       "      <th>0</th>\n",
       "      <td>A0A023GPI8</td>\n",
       "      <td>8</td>\n",
       "      <td>Mn(2+)</td>\n",
       "    </tr>\n",
       "    <tr>\n",
       "      <th>1</th>\n",
       "      <td>A0A023GPI8</td>\n",
       "      <td>10</td>\n",
       "      <td>Ca(2+)</td>\n",
       "    </tr>\n",
       "    <tr>\n",
       "      <th>2</th>\n",
       "      <td>A0A023GPI8</td>\n",
       "      <td>12</td>\n",
       "      <td>Ca(2+)</td>\n",
       "    </tr>\n",
       "    <tr>\n",
       "      <th>3</th>\n",
       "      <td>A0A023GPI8</td>\n",
       "      <td>14</td>\n",
       "      <td>Ca(2+)</td>\n",
       "    </tr>\n",
       "    <tr>\n",
       "      <th>4</th>\n",
       "      <td>A0A023GPI8</td>\n",
       "      <td>19</td>\n",
       "      <td>Ca(2+)</td>\n",
       "    </tr>\n",
       "    <tr>\n",
       "      <th>5</th>\n",
       "      <td>A0A023GPI8</td>\n",
       "      <td>24</td>\n",
       "      <td>Mn(2+)</td>\n",
       "    </tr>\n",
       "    <tr>\n",
       "      <th>6</th>\n",
       "      <td>A0A067XG71</td>\n",
       "      <td>8</td>\n",
       "      <td>Mn(2+)</td>\n",
       "    </tr>\n",
       "    <tr>\n",
       "      <th>7</th>\n",
       "      <td>A0A067XG71</td>\n",
       "      <td>10</td>\n",
       "      <td>Ca(2+)</td>\n",
       "    </tr>\n",
       "    <tr>\n",
       "      <th>8</th>\n",
       "      <td>A0A067XG71</td>\n",
       "      <td>12</td>\n",
       "      <td>Ca(2+)</td>\n",
       "    </tr>\n",
       "    <tr>\n",
       "      <th>9</th>\n",
       "      <td>A0A067XG71</td>\n",
       "      <td>14</td>\n",
       "      <td>Ca(2+)</td>\n",
       "    </tr>\n",
       "  </tbody>\n",
       "</table>\n",
       "</div>"
      ],
      "text/plain": [
       "    Accession  Position    Name\n",
       "0  A0A023GPI8         8  Mn(2+)\n",
       "1  A0A023GPI8        10  Ca(2+)\n",
       "2  A0A023GPI8        12  Ca(2+)\n",
       "3  A0A023GPI8        14  Ca(2+)\n",
       "4  A0A023GPI8        19  Ca(2+)\n",
       "5  A0A023GPI8        24  Mn(2+)\n",
       "6  A0A067XG71         8  Mn(2+)\n",
       "7  A0A067XG71        10  Ca(2+)\n",
       "8  A0A067XG71        12  Ca(2+)\n",
       "9  A0A067XG71        14  Ca(2+)"
      ]
     },
     "execution_count": 24,
     "metadata": {},
     "output_type": "execute_result"
    }
   ],
   "source": [
    "# Group the dataframe by \"Accession\", \"Position\", and \"ChEBI-ID\" columns and get the count\n",
    "counts = merged_df.groupby(['Accession', 'Position', 'Name']).size()\n",
    "\n",
    "# Get the indices of the maximum count for each group\n",
    "max_counts_index = counts.groupby(level=[0, 1]).idxmax()\n",
    "\n",
    "# convert the max_counts_index to a dataframe which has 3 columns (Accession, Position, ChEBI-ID)\n",
    "max_counts_df = pd.DataFrame(max_counts_index.tolist(), columns=['Accession', 'Position', 'Name'])\n",
    "max_counts_df.head(10)"
   ]
  },
  {
   "cell_type": "code",
   "execution_count": 25,
   "metadata": {},
   "outputs": [
    {
     "data": {
      "text/html": [
       "<div>\n",
       "<style scoped>\n",
       "    .dataframe tbody tr th:only-of-type {\n",
       "        vertical-align: middle;\n",
       "    }\n",
       "\n",
       "    .dataframe tbody tr th {\n",
       "        vertical-align: top;\n",
       "    }\n",
       "\n",
       "    .dataframe thead th {\n",
       "        text-align: right;\n",
       "    }\n",
       "</style>\n",
       "<table border=\"1\" class=\"dataframe\">\n",
       "  <thead>\n",
       "    <tr style=\"text-align: right;\">\n",
       "      <th></th>\n",
       "      <th>Accession</th>\n",
       "      <th>Position</th>\n",
       "      <th>Name</th>\n",
       "    </tr>\n",
       "  </thead>\n",
       "  <tbody>\n",
       "    <tr>\n",
       "      <th>0</th>\n",
       "      <td>A0A023GPI8</td>\n",
       "      <td>8</td>\n",
       "      <td>Mn(2+)</td>\n",
       "    </tr>\n",
       "    <tr>\n",
       "      <th>1</th>\n",
       "      <td>A0A023GPI8</td>\n",
       "      <td>10</td>\n",
       "      <td>Ca(2+)</td>\n",
       "    </tr>\n",
       "    <tr>\n",
       "      <th>2</th>\n",
       "      <td>A0A023GPI8</td>\n",
       "      <td>12</td>\n",
       "      <td>Ca(2+)</td>\n",
       "    </tr>\n",
       "    <tr>\n",
       "      <th>3</th>\n",
       "      <td>A0A023GPI8</td>\n",
       "      <td>14</td>\n",
       "      <td>Ca(2+)</td>\n",
       "    </tr>\n",
       "    <tr>\n",
       "      <th>4</th>\n",
       "      <td>A0A023GPI8</td>\n",
       "      <td>19</td>\n",
       "      <td>Ca(2+)</td>\n",
       "    </tr>\n",
       "    <tr>\n",
       "      <th>5</th>\n",
       "      <td>A0A023GPI8</td>\n",
       "      <td>24</td>\n",
       "      <td>Mn(2+)</td>\n",
       "    </tr>\n",
       "  </tbody>\n",
       "</table>\n",
       "</div>"
      ],
      "text/plain": [
       "    Accession  Position    Name\n",
       "0  A0A023GPI8         8  Mn(2+)\n",
       "1  A0A023GPI8        10  Ca(2+)\n",
       "2  A0A023GPI8        12  Ca(2+)\n",
       "3  A0A023GPI8        14  Ca(2+)\n",
       "4  A0A023GPI8        19  Ca(2+)\n",
       "5  A0A023GPI8        24  Mn(2+)"
      ]
     },
     "execution_count": 25,
     "metadata": {},
     "output_type": "execute_result"
    }
   ],
   "source": [
    "max_counts_df[max_counts_df['Accession'] == 'A0A023GPI8']"
   ]
  },
  {
   "cell_type": "markdown",
   "metadata": {},
   "source": [
    "## Creating labels using name_to_label for each ion. The labels are lists as same length as the sequences itself. Each index corresponds the ion labels.  "
   ]
  },
  {
   "cell_type": "code",
   "execution_count": 26,
   "metadata": {},
   "outputs": [],
   "source": [
    "for record in records_cleaned:\n",
    "\n",
    "    accession = record['id']\n",
    "    sequence = record['sequence']\n",
    "    boundings_df = max_counts_df[max_counts_df['Accession'] == accession]\n",
    "\n",
    "    # create a list of zeros with the length of the sequence and then fill the indices with names to labels dictionary for the positions of the metal binding sites\n",
    "    metal_binding_sites = [0] * len(sequence)\n",
    "    for _, row in boundings_df.iterrows():\n",
    "        metal_binding_sites[row['Position'] - 1] = name_to_label[row['Name']]\n",
    "    \n",
    "    record['metal_binding_sites'] = metal_binding_sites"
   ]
  },
  {
   "cell_type": "code",
   "execution_count": 27,
   "metadata": {},
   "outputs": [
    {
     "data": {
      "text/plain": [
       "{'id': 'A0A023GPI8',\n",
       " 'sequence': 'ADTIVAVELDTYPNTDIGDPSYPHIGIDIKSVRSKKTAKWNMQNGKVGTAHIIYNSVGKRLSAVVSYPNGDSATVSYDVDLDNVLPEWVRVGLSATTGLYKETNTILSWSFTSKLKSNSTHETNALHFMFNQFSKDQKDLILQGDATTGRDGNLELTRVSSNGSPQGSSVGRALFYAPVHIWESSAVVASFDATFTFLIKSSDSHPADGIAFFISNIDSSIPSGSTGRLLGLFPDAN',\n",
       " 'metal_binding_sites': [0,\n",
       "  0,\n",
       "  0,\n",
       "  0,\n",
       "  0,\n",
       "  0,\n",
       "  0,\n",
       "  4,\n",
       "  0,\n",
       "  2,\n",
       "  0,\n",
       "  2,\n",
       "  0,\n",
       "  2,\n",
       "  0,\n",
       "  0,\n",
       "  0,\n",
       "  0,\n",
       "  2,\n",
       "  0,\n",
       "  0,\n",
       "  0,\n",
       "  0,\n",
       "  4,\n",
       "  0,\n",
       "  0,\n",
       "  0,\n",
       "  0,\n",
       "  0,\n",
       "  0,\n",
       "  0,\n",
       "  0,\n",
       "  0,\n",
       "  0,\n",
       "  0,\n",
       "  0,\n",
       "  0,\n",
       "  0,\n",
       "  0,\n",
       "  0,\n",
       "  0,\n",
       "  0,\n",
       "  0,\n",
       "  0,\n",
       "  0,\n",
       "  0,\n",
       "  0,\n",
       "  0,\n",
       "  0,\n",
       "  0,\n",
       "  0,\n",
       "  0,\n",
       "  0,\n",
       "  0,\n",
       "  0,\n",
       "  0,\n",
       "  0,\n",
       "  0,\n",
       "  0,\n",
       "  0,\n",
       "  0,\n",
       "  0,\n",
       "  0,\n",
       "  0,\n",
       "  0,\n",
       "  0,\n",
       "  0,\n",
       "  0,\n",
       "  0,\n",
       "  0,\n",
       "  0,\n",
       "  0,\n",
       "  0,\n",
       "  0,\n",
       "  0,\n",
       "  0,\n",
       "  0,\n",
       "  0,\n",
       "  0,\n",
       "  0,\n",
       "  0,\n",
       "  0,\n",
       "  0,\n",
       "  0,\n",
       "  0,\n",
       "  0,\n",
       "  0,\n",
       "  0,\n",
       "  0,\n",
       "  0,\n",
       "  0,\n",
       "  0,\n",
       "  0,\n",
       "  0,\n",
       "  0,\n",
       "  0,\n",
       "  0,\n",
       "  0,\n",
       "  0,\n",
       "  0,\n",
       "  0,\n",
       "  0,\n",
       "  0,\n",
       "  0,\n",
       "  0,\n",
       "  0,\n",
       "  0,\n",
       "  0,\n",
       "  0,\n",
       "  0,\n",
       "  0,\n",
       "  0,\n",
       "  0,\n",
       "  0,\n",
       "  0,\n",
       "  0,\n",
       "  0,\n",
       "  0,\n",
       "  0,\n",
       "  0,\n",
       "  0,\n",
       "  0,\n",
       "  0,\n",
       "  0,\n",
       "  0,\n",
       "  0,\n",
       "  0,\n",
       "  0,\n",
       "  0,\n",
       "  0,\n",
       "  0,\n",
       "  0,\n",
       "  0,\n",
       "  0,\n",
       "  0,\n",
       "  0,\n",
       "  0,\n",
       "  0,\n",
       "  0,\n",
       "  0,\n",
       "  0,\n",
       "  0,\n",
       "  0,\n",
       "  0,\n",
       "  0,\n",
       "  0,\n",
       "  0,\n",
       "  0,\n",
       "  0,\n",
       "  0,\n",
       "  0,\n",
       "  0,\n",
       "  0,\n",
       "  0,\n",
       "  0,\n",
       "  0,\n",
       "  0,\n",
       "  0,\n",
       "  0,\n",
       "  0,\n",
       "  0,\n",
       "  0,\n",
       "  0,\n",
       "  0,\n",
       "  0,\n",
       "  0,\n",
       "  0,\n",
       "  0,\n",
       "  0,\n",
       "  0,\n",
       "  0,\n",
       "  0,\n",
       "  0,\n",
       "  0,\n",
       "  0,\n",
       "  0,\n",
       "  0,\n",
       "  0,\n",
       "  0,\n",
       "  0,\n",
       "  0,\n",
       "  0,\n",
       "  0,\n",
       "  0,\n",
       "  0,\n",
       "  0,\n",
       "  0,\n",
       "  0,\n",
       "  0,\n",
       "  0,\n",
       "  0,\n",
       "  0,\n",
       "  0,\n",
       "  0,\n",
       "  0,\n",
       "  0,\n",
       "  0,\n",
       "  0,\n",
       "  0,\n",
       "  0,\n",
       "  0,\n",
       "  0,\n",
       "  0,\n",
       "  0,\n",
       "  0,\n",
       "  0,\n",
       "  0,\n",
       "  0,\n",
       "  0,\n",
       "  0,\n",
       "  0,\n",
       "  0,\n",
       "  0,\n",
       "  0,\n",
       "  0,\n",
       "  0,\n",
       "  0,\n",
       "  0,\n",
       "  0,\n",
       "  0,\n",
       "  0,\n",
       "  0,\n",
       "  0,\n",
       "  0,\n",
       "  0,\n",
       "  0,\n",
       "  0,\n",
       "  0,\n",
       "  0,\n",
       "  0,\n",
       "  0,\n",
       "  0,\n",
       "  0,\n",
       "  0,\n",
       "  0,\n",
       "  0,\n",
       "  0]}"
      ]
     },
     "execution_count": 27,
     "metadata": {},
     "output_type": "execute_result"
    }
   ],
   "source": [
    "records_cleaned[0]"
   ]
  },
  {
   "cell_type": "code",
   "execution_count": 28,
   "metadata": {},
   "outputs": [],
   "source": [
    "# create a folder named data first\n",
    "!mkdir data"
   ]
  },
  {
   "cell_type": "code",
   "execution_count": 29,
   "metadata": {},
   "outputs": [],
   "source": [
    "# save all the records to a json file\n",
    "import json\n",
    "\n",
    "with open('data/records.json', 'w') as f:\n",
    "    json.dump(records_cleaned, f)\n",
    "\n",
    "# save the name to label and label to name dictionaries to a json file\n",
    "with open('data/name_to_label.json', 'w') as f:\n",
    "    json.dump(name_to_label, f)\n",
    "\n",
    "with open('data/label_to_name.json', 'w') as f:\n",
    "    json.dump(label_to_name, f)"
   ]
  }
 ],
 "metadata": {
  "kernelspec": {
   "display_name": "pytorch_env",
   "language": "python",
   "name": "python3"
  },
  "language_info": {
   "codemirror_mode": {
    "name": "ipython",
    "version": 3
   },
   "file_extension": ".py",
   "mimetype": "text/x-python",
   "name": "python",
   "nbconvert_exporter": "python",
   "pygments_lexer": "ipython3",
   "version": "3.11.5"
  }
 },
 "nbformat": 4,
 "nbformat_minor": 2
}
